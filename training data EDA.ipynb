{
 "cells": [
  {
   "cell_type": "code",
   "execution_count": 1,
   "id": "8b7de598",
   "metadata": {},
   "outputs": [
    {
     "name": "stdout",
     "output_type": "stream",
     "text": [
      "1.2.4\n",
      "srch_id                          int64\n",
      "date_time                       object\n",
      "site_id                          int64\n",
      "visitor_location_country_id      int64\n",
      "visitor_hist_starrating        float64\n",
      "visitor_hist_adr_usd           float64\n",
      "prop_country_id                  int64\n",
      "prop_id                          int64\n",
      "prop_starrating                  int64\n",
      "prop_review_score              float64\n",
      "prop_brand_bool                  int64\n",
      "prop_location_score1           float64\n",
      "prop_location_score2           float64\n",
      "prop_log_historical_price      float64\n",
      "position                         int64\n",
      "price_usd                      float64\n",
      "promotion_flag                   int64\n",
      "srch_destination_id              int64\n",
      "srch_length_of_stay              int64\n",
      "srch_booking_window              int64\n",
      "srch_adults_count                int64\n",
      "srch_children_count              int64\n",
      "srch_room_count                  int64\n",
      "srch_saturday_night_bool         int64\n",
      "srch_query_affinity_score      float64\n",
      "orig_destination_distance      float64\n",
      "random_bool                      int64\n",
      "comp1_rate                     float64\n",
      "comp1_inv                      float64\n",
      "comp1_rate_percent_diff        float64\n",
      "comp2_rate                     float64\n",
      "comp2_inv                      float64\n",
      "comp2_rate_percent_diff        float64\n",
      "comp3_rate                     float64\n",
      "comp3_inv                      float64\n",
      "comp3_rate_percent_diff        float64\n",
      "comp4_rate                     float64\n",
      "comp4_inv                      float64\n",
      "comp4_rate_percent_diff        float64\n",
      "comp5_rate                     float64\n",
      "comp5_inv                      float64\n",
      "comp5_rate_percent_diff        float64\n",
      "comp6_rate                     float64\n",
      "comp6_inv                      float64\n",
      "comp6_rate_percent_diff        float64\n",
      "comp7_rate                     float64\n",
      "comp7_inv                      float64\n",
      "comp7_rate_percent_diff        float64\n",
      "comp8_rate                     float64\n",
      "comp8_inv                      float64\n",
      "comp8_rate_percent_diff        float64\n",
      "click_bool                       int64\n",
      "gross_bookings_usd             float64\n",
      "booking_bool                     int64\n",
      "dtype: object\n",
      "9\n"
     ]
    },
    {
     "data": {
      "text/plain": [
       "50821"
      ]
     },
     "execution_count": 1,
     "metadata": {},
     "output_type": "execute_result"
    }
   ],
   "source": [
    "import pandas as pd \n",
    "import numpy as np \n",
    "import csv\n",
    "import seaborn as sns\n",
    "import matplotlib \n",
    "import matplotlib.pyplot as plt\n",
    "%matplotlib inline\n",
    "\n",
    "print(pd.__version__)\n",
    "hotel_data = pd.read_csv('training_set_VU_DM.csv')\n",
    "booked = hotel_data[hotel_data[\"booking_bool\"] == 1]\n",
    "result = booked.dtypes\n",
    "print(result)\n",
    "##Position ranges from 1 to 40 \n",
    "\n",
    "## correlation between children and distance from origin \n",
    "\n",
    "child_max = booked['srch_children_count'].max()\n",
    "print(child_max)\n",
    "\n",
    "## children range from 0 to 9 \n",
    "\n",
    "booked.groupby(['srch_children_count'])\n",
    "booked['srch_children_count'].value_counts()\n",
    "\n",
    "booked['srch_children_count'].sum()"
   ]
  },
  {
   "cell_type": "code",
   "execution_count": 2,
   "id": "c2b9d98c",
   "metadata": {},
   "outputs": [
    {
     "name": "stdout",
     "output_type": "stream",
     "text": [
      "138390\n",
      "138390\n"
     ]
    },
    {
     "name": "stderr",
     "output_type": "stream",
     "text": [
      "<ipython-input-2-6cd2ad85ee36>:2: SettingWithCopyWarning: \n",
      "A value is trying to be set on a copy of a slice from a DataFrame.\n",
      "Try using .loc[row_indexer,col_indexer] = value instead\n",
      "\n",
      "See the caveats in the documentation: https://pandas.pydata.org/pandas-docs/stable/user_guide/indexing.html#returning-a-view-versus-a-copy\n",
      "  booked['orig_destination_distance'] = booked['orig_destination_distance'].dropna()\n"
     ]
    },
    {
     "data": {
      "text/plain": [
       "<AxesSubplot:title={'center':'Family correlation'}, xlabel='Children', ylabel='Distance from origin'>"
      ]
     },
     "execution_count": 2,
     "metadata": {},
     "output_type": "execute_result"
    },
    {
     "data": {
      "image/png": "[encoded data removed]",
      "text/plain": [
       "<Figure size 432x360 with 1 Axes>"
      ]
     },
     "metadata": {
      "needs_background": "light"
     },
     "output_type": "display_data"
    }
   ],
   "source": [
    "print(booked['orig_destination_distance'].shape[0])\n",
    "booked['orig_destination_distance'] = booked['orig_destination_distance'].dropna()\n",
    "print(booked['orig_destination_distance'].shape[0])\n",
    "dfg = booked.groupby(['srch_children_count'])['orig_destination_distance'].mean()\n",
    "dfg.plot(kind='bar', title='Family correlation', ylabel='Distance from origin',\n",
    "         xlabel='Children', figsize=(6, 5))"
   ]
  },
  {
   "cell_type": "code",
   "execution_count": 3,
   "id": "2878ee8c",
   "metadata": {},
   "outputs": [
    {
     "data": {
      "text/plain": [
       "0         AxesSubplot(0.1,0.736957;0.235294x0.163043)\n",
       "1    AxesSubplot(0.382353,0.736957;0.235294x0.163043)\n",
       "2    AxesSubplot(0.664706,0.736957;0.235294x0.163043)\n",
       "3         AxesSubplot(0.1,0.541304;0.235294x0.163043)\n",
       "4    AxesSubplot(0.382353,0.541304;0.235294x0.163043)\n",
       "5    AxesSubplot(0.664706,0.541304;0.235294x0.163043)\n",
       "6         AxesSubplot(0.1,0.345652;0.235294x0.163043)\n",
       "7    AxesSubplot(0.382353,0.345652;0.235294x0.163043)\n",
       "8    AxesSubplot(0.664706,0.345652;0.235294x0.163043)\n",
       "9             AxesSubplot(0.1,0.15;0.235294x0.163043)\n",
       "dtype: object"
      ]
     },
     "execution_count": 3,
     "metadata": {},
     "output_type": "execute_result"
    },
    {
     "data": {
      "image/png": "[encoded data removed]",
      "text/plain": [
       "<Figure size 432x288 with 12 Axes>"
      ]
     },
     "metadata": {
      "needs_background": "light"
     },
     "output_type": "display_data"
    }
   ],
   "source": [
    "booked.groupby(\"srch_children_count\").boxplot(column=\"orig_destination_distance\")"
   ]
  },
  {
   "cell_type": "code",
   "execution_count": 4,
   "id": "8d791a8a",
   "metadata": {},
   "outputs": [],
   "source": [
    "## count null values in orig_destination_distance\n",
    "\n"
   ]
  },
  {
   "cell_type": "code",
   "execution_count": 5,
   "id": "14de514c",
   "metadata": {},
   "outputs": [
    {
     "name": "stdout",
     "output_type": "stream",
     "text": [
      "<class 'str'>\n"
     ]
    },
    {
     "name": "stderr",
     "output_type": "stream",
     "text": [
      "<ipython-input-5-c0543e31bfc7>:10: SettingWithCopyWarning: \n",
      "A value is trying to be set on a copy of a slice from a DataFrame.\n",
      "Try using .loc[row_indexer,col_indexer] = value instead\n",
      "\n",
      "See the caveats in the documentation: https://pandas.pydata.org/pandas-docs/stable/user_guide/indexing.html#returning-a-view-versus-a-copy\n",
      "  booked['date_time'] = pd.to_datetime(booked['date_time'],errors='coerce')\n"
     ]
    },
    {
     "name": "stdout",
     "output_type": "stream",
     "text": [
      "12         04\n",
      "63         06\n",
      "68         03\n",
      "194        02\n",
      "211        12\n",
      "           ..\n",
      "4958241    11\n",
      "4958275    03\n",
      "4958304    11\n",
      "4958321    06\n",
      "4958345    06\n",
      "Name: date_time, Length: 138390, dtype: object\n"
     ]
    },
    {
     "name": "stderr",
     "output_type": "stream",
     "text": [
      "<ipython-input-5-c0543e31bfc7>:13: SettingWithCopyWarning: \n",
      "A value is trying to be set on a copy of a slice from a DataFrame.\n",
      "Try using .loc[row_indexer,col_indexer] = value instead\n",
      "\n",
      "See the caveats in the documentation: https://pandas.pydata.org/pandas-docs/stable/user_guide/indexing.html#returning-a-view-versus-a-copy\n",
      "  booked['date_time'] = booked['date_time'].dt.strftime('%m')\n"
     ]
    }
   ],
   "source": [
    "import datetime\n",
    "mydate = datetime.datetime.now()\n",
    "month = mydate.strftime(\"%B\")\n",
    "print(type(month))\n",
    "\n",
    "#booked['date_time'].dt.strftime(\"%B\")\n",
    "\n",
    "#strftime('%B %d, %Y')\n",
    "\n",
    "booked['date_time'] = pd.to_datetime(booked['date_time'],errors='coerce')\n",
    "\n",
    "\n",
    "booked['date_time'] = booked['date_time'].dt.strftime('%m')\n",
    "print(booked['date_time'])"
   ]
  },
  {
   "cell_type": "code",
   "execution_count": 6,
   "id": "cecc23b3",
   "metadata": {},
   "outputs": [
    {
     "name": "stderr",
     "output_type": "stream",
     "text": [
      "<ipython-input-6-3854a0f4be4f>:1: SettingWithCopyWarning: \n",
      "A value is trying to be set on a copy of a slice from a DataFrame.\n",
      "Try using .loc[row_indexer,col_indexer] = value instead\n",
      "\n",
      "See the caveats in the documentation: https://pandas.pydata.org/pandas-docs/stable/user_guide/indexing.html#returning-a-view-versus-a-copy\n",
      "  booked['date_time'] = booked['date_time'].astype(str).astype(int)\n"
     ]
    }
   ],
   "source": [
    "booked['date_time'] = booked['date_time'].astype(str).astype(int)\n",
    "\n"
   ]
  },
  {
   "cell_type": "code",
   "execution_count": 7,
   "id": "e7c3444a",
   "metadata": {},
   "outputs": [
    {
     "name": "stderr",
     "output_type": "stream",
     "text": [
      "/Users/smrutiinamdar/opt/anaconda3/lib/python3.8/site-packages/seaborn/_decorators.py:36: FutureWarning: Pass the following variable as a keyword arg: x. From version 0.12, the only valid positional argument will be `data`, and passing other arguments without an explicit keyword will result in an error or misinterpretation.\n",
      "  warnings.warn(\n"
     ]
    },
    {
     "data": {
      "text/plain": [
       "<AxesSubplot:xlabel='date_time', ylabel='count'>"
      ]
     },
     "execution_count": 7,
     "metadata": {},
     "output_type": "execute_result"
    },
    {
     "data": {
      "image/png": "[encoded data removed]",
      "text/plain": [
       "<Figure size 432x288 with 1 Axes>"
      ]
     },
     "metadata": {
      "needs_background": "light"
     },
     "output_type": "display_data"
    }
   ],
   "source": [
    "sns.countplot('date_time',data=booked.sort_values(by=['date_time']))"
   ]
  },
  {
   "cell_type": "code",
   "execution_count": 8,
   "id": "1f6e1577",
   "metadata": {},
   "outputs": [
    {
     "name": "stdout",
     "output_type": "stream",
     "text": [
      "0    4736468\n",
      "1     221879\n",
      "Name: click_bool, dtype: int64\n"
     ]
    }
   ],
   "source": [
    "## click an book bool. \n",
    "\n",
    "#booked_val = booked[booked['click_bool']==1][booked['booking_bool']==1]\n",
    "#booked_val.value_counts()\n",
    "\n",
    "clicked = hotel_data['click_bool']\n",
    "print(clicked.value_counts())\n",
    "\n",
    "\n",
    "booked_val = hotel_data['booking_bool'].value_counts()\n",
    "\n"
   ]
  },
  {
   "cell_type": "code",
   "execution_count": 12,
   "id": "b10dffc8",
   "metadata": {},
   "outputs": [
    {
     "data": {
      "text/plain": [
       "site_id  prop_review_score\n",
       "1        4.0                  111\n",
       "         4.5                   92\n",
       "         3.5                   51\n",
       "         3.0                   17\n",
       "         5.0                   11\n",
       "                             ... \n",
       "34       3.0                   11\n",
       "         0.0                    9\n",
       "         2.5                    4\n",
       "         2.0                    2\n",
       "         1.5                    1\n",
       "Name: prop_review_score, Length: 286, dtype: int64"
      ]
     },
     "execution_count": 12,
     "metadata": {},
     "output_type": "execute_result"
    },
    {
     "data": {
      "image/png": "[encoded data removed]",
      "text/plain": [
       "<Figure size 432x288 with 1 Axes>"
      ]
     },
     "metadata": {
      "needs_background": "light"
     },
     "output_type": "display_data"
    }
   ],
   "source": [
    "##popular site IDs\n",
    "\n",
    "booked['site_id'].value_counts()\n",
    "plt.hist(booked['site_id'])\n",
    "\n",
    "pop_hotels  = booked.groupby(['site_id'])['prop_review_score'].value_counts()\n",
    "pop_hotels"
   ]
  },
  {
   "cell_type": "code",
   "execution_count": null,
   "id": "d1006f1c",
   "metadata": {},
   "outputs": [],
   "source": [
    " "
   ]
  }
 ],
 "metadata": {
  "kernelspec": {
   "display_name": "Python 3",
   "language": "python",
   "name": "python3"
  },
  "language_info": {
   "codemirror_mode": {
    "name": "ipython",
    "version": 3
   },
   "file_extension": ".py",
   "mimetype": "text/x-python",
   "name": "python",
   "nbconvert_exporter": "python",
   "pygments_lexer": "ipython3",
   "version": "3.8.8"
  }
 },
 "nbformat": 4,
 "nbformat_minor": 5
}
